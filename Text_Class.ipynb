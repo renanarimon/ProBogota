{
 "cells": [
  {
   "cell_type": "code",
   "execution_count": 98,
   "outputs": [
    {
     "name": "stdout",
     "output_type": "stream",
     "text": [
      "Requirement already satisfied: keras in ./venv/lib/python3.9/site-packages (2.12.0)\r\n",
      "\u001B[33mWARNING: You are using pip version 21.3.1; however, version 23.1.2 is available.\r\n",
      "You should consider upgrading via the '/Users/taliyas/PycharmProjects/NER/venv/bin/python -m pip install --upgrade pip' command.\u001B[0m\r\n"
     ]
    }
   ],
   "source": [
    "!pip install keras"
   ],
   "metadata": {
    "collapsed": false,
    "pycharm": {
     "name": "#%%\n"
    }
   }
  },
  {
   "cell_type": "code",
   "execution_count": 99,
   "outputs": [
    {
     "name": "stdout",
     "output_type": "stream",
     "text": [
      "Name: tensorflow\r\n",
      "Version: 2.12.0\r\n",
      "Summary: TensorFlow is an open source machine learning framework for everyone.\r\n",
      "Home-page: https://www.tensorflow.org/\r\n",
      "Author: Google Inc.\r\n",
      "Author-email: packages@tensorflow.org\r\n",
      "License: Apache 2.0\r\n",
      "Location: /Users/taliyas/PycharmProjects/NER/venv/lib/python3.9/site-packages\r\n",
      "Requires: absl-py, astunparse, flatbuffers, gast, google-pasta, grpcio, h5py, jax, keras, libclang, numpy, opt-einsum, packaging, protobuf, setuptools, six, tensorboard, tensorflow-estimator, tensorflow-io-gcs-filesystem, termcolor, typing-extensions, wrapt\r\n",
      "Required-by: tensorflow-text\r\n"
     ]
    }
   ],
   "source": [
    "!pip show tensorflow"
   ],
   "metadata": {
    "collapsed": false,
    "pycharm": {
     "name": "#%%\n"
    }
   }
  },
  {
   "cell_type": "code",
   "execution_count": 100,
   "outputs": [
    {
     "name": "stdout",
     "output_type": "stream",
     "text": [
      "Requirement already satisfied: pandas in ./venv/lib/python3.9/site-packages (2.0.0)\r\n",
      "Requirement already satisfied: openpyxl in ./venv/lib/python3.9/site-packages (3.1.2)\r\n",
      "Requirement already satisfied: numpy>=1.20.3 in ./venv/lib/python3.9/site-packages (from pandas) (1.23.5)\r\n",
      "Requirement already satisfied: pytz>=2020.1 in ./venv/lib/python3.9/site-packages (from pandas) (2023.3)\r\n",
      "Requirement already satisfied: python-dateutil>=2.8.2 in ./venv/lib/python3.9/site-packages (from pandas) (2.8.2)\r\n",
      "Requirement already satisfied: tzdata>=2022.1 in ./venv/lib/python3.9/site-packages (from pandas) (2023.3)\r\n",
      "Requirement already satisfied: et-xmlfile in ./venv/lib/python3.9/site-packages (from openpyxl) (1.1.0)\r\n",
      "Requirement already satisfied: six>=1.5 in ./venv/lib/python3.9/site-packages (from python-dateutil>=2.8.2->pandas) (1.16.0)\r\n",
      "\u001B[33mWARNING: You are using pip version 21.3.1; however, version 23.1.2 is available.\r\n",
      "You should consider upgrading via the '/Users/taliyas/PycharmProjects/NER/venv/bin/python -m pip install --upgrade pip' command.\u001B[0m\r\n"
     ]
    }
   ],
   "source": [
    "!pip install pandas openpyxl"
   ],
   "metadata": {
    "collapsed": false,
    "pycharm": {
     "name": "#%%\n"
    }
   }
  },
  {
   "cell_type": "code",
   "execution_count": null,
   "outputs": [],
   "source": [
    "!pip install transformers"
   ],
   "metadata": {
    "collapsed": false,
    "pycharm": {
     "name": "#%%\n"
    }
   }
  },
  {
   "cell_type": "markdown",
   "source": [
    "### IMPORT"
   ],
   "metadata": {
    "collapsed": false,
    "pycharm": {
     "name": "#%% md\n"
    }
   }
  },
  {
   "cell_type": "code",
   "execution_count": null,
   "outputs": [],
   "source": [
    "import pandas as pd\n",
    "import numpy as np\n",
    "import tensorflow as tf\n",
    "from sklearn.model_selection import train_test_split\n",
    "import tensorflow_text\n",
    "import tensorflow_hub as hub\n",
    "from tensorflow.keras import layers\n",
    "from sklearn.metrics import confusion_matrix, accuracy_score, precision_score, recall_score, f1_score\n",
    "import seaborn as sns\n",
    "from tensorflow.keras.preprocessing.text import Tokenizer\n",
    "from sklearn.metrics import confusion_matrix\n",
    "import matplotlib.pyplot as plt\n",
    "from tensorflow.python.keras import metrics\n",
    "from tensorflow.keras import metrics"
   ],
   "metadata": {
    "collapsed": false,
    "pycharm": {
     "name": "#%%\n"
    }
   }
  },
  {
   "cell_type": "markdown",
   "source": [
    "### Take the labeled data that we have already prepared with the help of queries to ChatGPT"
   ],
   "metadata": {
    "collapsed": false,
    "pycharm": {
     "name": "#%% md\n"
    }
   }
  },
  {
   "cell_type": "code",
   "execution_count": 1,
   "outputs": [
    {
     "data": {
      "text/plain": "(364, 2)"
     },
     "execution_count": 1,
     "metadata": {},
     "output_type": "execute_result"
    }
   ],
   "source": [
    "\n",
    "\n",
    "# Load the CSV file\n",
    "data = pd.read_csv('GPTClassification.csv')\n",
    "data.shape"
   ],
   "metadata": {
    "collapsed": false,
    "pycharm": {
     "name": "#%%\n"
    }
   }
  },
  {
   "cell_type": "code",
   "execution_count": 2,
   "outputs": [
    {
     "name": "stdout",
     "output_type": "stream",
     "text": [
      "<class 'pandas.core.frame.DataFrame'>\n",
      "RangeIndex: 364 entries, 0 to 363\n",
      "Data columns (total 2 columns):\n",
      " #   Column    Non-Null Count  Dtype \n",
      "---  ------    --------------  ----- \n",
      " 0   Sentence  364 non-null    object\n",
      " 1   category  362 non-null    object\n",
      "dtypes: object(2)\n",
      "memory usage: 5.8+ KB\n"
     ]
    }
   ],
   "source": [
    "data.info()"
   ],
   "metadata": {
    "collapsed": false,
    "pycharm": {
     "name": "#%%\n"
    }
   }
  },
  {
   "cell_type": "code",
   "execution_count": 3,
   "outputs": [
    {
     "data": {
      "text/plain": "                                            Sentence                  category\n0  \"I think there should be many various sitting ...                  Land use\n1  \"It should be distinctive but still matching t...            Local identity\n2  \"It should be clear where the entrance is and ...                  Land use\n3  \"well I think that the spaces should be focuse...  Land use, Future of work\n4  \"well it could be achieved through different m...                  Land use\n5  \"yes, the current building, as unsuitable as i...            Local identity\n6  \"maybe, however Im interested in your suggesti...                     other\n7  \"i find that a very correct approach... how di...                     other\n8                                   \"correct again \"                     other\n9  \"well maybe it is a possibility to experiment ...            Local identity",
      "text/html": "<div>\n<style scoped>\n    .dataframe tbody tr th:only-of-type {\n        vertical-align: middle;\n    }\n\n    .dataframe tbody tr th {\n        vertical-align: top;\n    }\n\n    .dataframe thead th {\n        text-align: right;\n    }\n</style>\n<table border=\"1\" class=\"dataframe\">\n  <thead>\n    <tr style=\"text-align: right;\">\n      <th></th>\n      <th>Sentence</th>\n      <th>category</th>\n    </tr>\n  </thead>\n  <tbody>\n    <tr>\n      <th>0</th>\n      <td>\"I think there should be many various sitting ...</td>\n      <td>Land use</td>\n    </tr>\n    <tr>\n      <th>1</th>\n      <td>\"It should be distinctive but still matching t...</td>\n      <td>Local identity</td>\n    </tr>\n    <tr>\n      <th>2</th>\n      <td>\"It should be clear where the entrance is and ...</td>\n      <td>Land use</td>\n    </tr>\n    <tr>\n      <th>3</th>\n      <td>\"well I think that the spaces should be focuse...</td>\n      <td>Land use, Future of work</td>\n    </tr>\n    <tr>\n      <th>4</th>\n      <td>\"well it could be achieved through different m...</td>\n      <td>Land use</td>\n    </tr>\n    <tr>\n      <th>5</th>\n      <td>\"yes, the current building, as unsuitable as i...</td>\n      <td>Local identity</td>\n    </tr>\n    <tr>\n      <th>6</th>\n      <td>\"maybe, however Im interested in your suggesti...</td>\n      <td>other</td>\n    </tr>\n    <tr>\n      <th>7</th>\n      <td>\"i find that a very correct approach... how di...</td>\n      <td>other</td>\n    </tr>\n    <tr>\n      <th>8</th>\n      <td>\"correct again \"</td>\n      <td>other</td>\n    </tr>\n    <tr>\n      <th>9</th>\n      <td>\"well maybe it is a possibility to experiment ...</td>\n      <td>Local identity</td>\n    </tr>\n  </tbody>\n</table>\n</div>"
     },
     "execution_count": 3,
     "metadata": {},
     "output_type": "execute_result"
    }
   ],
   "source": [
    "data.head(10)"
   ],
   "metadata": {
    "collapsed": false,
    "pycharm": {
     "name": "#%%\n"
    }
   }
  },
  {
   "cell_type": "code",
   "execution_count": 4,
   "outputs": [
    {
     "name": "stdout",
     "output_type": "stream",
     "text": [
      "There is  93  sentence that are not labeled\n"
     ]
    }
   ],
   "source": [
    "empty_string_count = (data['category'] == 'other').sum()\n",
    "print(\"There is \", empty_string_count, \" sentence that are not labeled\")"
   ],
   "metadata": {
    "collapsed": false,
    "pycharm": {
     "name": "#%%\n"
    }
   }
  },
  {
   "cell_type": "code",
   "execution_count": 5,
   "outputs": [],
   "source": [
    "# delete the NuN values\n",
    "data = data.dropna()"
   ],
   "metadata": {
    "collapsed": false,
    "pycharm": {
     "name": "#%%\n"
    }
   }
  },
  {
   "cell_type": "code",
   "execution_count": 6,
   "outputs": [
    {
     "name": "stdout",
     "output_type": "stream",
     "text": [
      "There are 14 duplicate Sentences.\n"
     ]
    }
   ],
   "source": [
    "total_duplicate_titles = sum(data[\"Sentence\"].duplicated())\n",
    "print(f\"There are {total_duplicate_titles} duplicate Sentences.\")"
   ],
   "metadata": {
    "collapsed": false,
    "pycharm": {
     "name": "#%%\n"
    }
   }
  },
  {
   "cell_type": "code",
   "execution_count": 7,
   "outputs": [
    {
     "data": {
      "text/plain": "                                     Sentence   \n17                                       \"no\"  \\\n51   \"What spaces should be in the building?\"   \n54     \"What should the building look like? \"   \n71   \"What spaces should be in the building?\"   \n74     \"What should the building look like? \"   \n85                                  \"Hi Zaha\"   \n97              \"What would you like to know\"   \n123                                  \"spaces\"   \n127                             \"trees grass\"   \n129                                  \"spaces\"   \n130                                 \"history\"   \n131                                 \"history\"   \n132                                  \"spaces\"   \n133                             \"trees grass\"   \n134                                  \"modern\"   \n135                                 \"history\"   \n139                            \"not too high\"   \n142                                    \"safe\"   \n144                                    \"safe\"   \n169             \"What would you like to know\"   \n191                                 \"Hi Zaha\"   \n216                                 \"Hi Zaha\"   \n242                                      \"no\"   \n247                                  \"modern\"   \n361                            \"not too high\"   \n\n                                         category  \n17                                          other  \n51                       Future of work, Land use  \n54                                 Local identity  \n71                                       Land use  \n74                                 Local identity  \n85                                          other  \n97                                          other  \n123  Environment and climate resilience, Land use  \n127  Environment and climate resilience, Land use  \n129  Environment and climate resilience, Land use  \n130                                Local identity  \n131                                Local identity  \n132  Environment and climate resilience, Land use  \n133            Environment and climate resilience  \n134                                Local identity  \n135                                Local identity  \n139            Environment and climate resilience  \n142            Environment and climate resilience  \n144                                         other  \n169                                         other  \n191                                         other  \n216                                         other  \n242                                         other  \n247                                Local identity  \n361                                      Land use  ",
      "text/html": "<div>\n<style scoped>\n    .dataframe tbody tr th:only-of-type {\n        vertical-align: middle;\n    }\n\n    .dataframe tbody tr th {\n        vertical-align: top;\n    }\n\n    .dataframe thead th {\n        text-align: right;\n    }\n</style>\n<table border=\"1\" class=\"dataframe\">\n  <thead>\n    <tr style=\"text-align: right;\">\n      <th></th>\n      <th>Sentence</th>\n      <th>category</th>\n    </tr>\n  </thead>\n  <tbody>\n    <tr>\n      <th>17</th>\n      <td>\"no\"</td>\n      <td>other</td>\n    </tr>\n    <tr>\n      <th>51</th>\n      <td>\"What spaces should be in the building?\"</td>\n      <td>Future of work, Land use</td>\n    </tr>\n    <tr>\n      <th>54</th>\n      <td>\"What should the building look like? \"</td>\n      <td>Local identity</td>\n    </tr>\n    <tr>\n      <th>71</th>\n      <td>\"What spaces should be in the building?\"</td>\n      <td>Land use</td>\n    </tr>\n    <tr>\n      <th>74</th>\n      <td>\"What should the building look like? \"</td>\n      <td>Local identity</td>\n    </tr>\n    <tr>\n      <th>85</th>\n      <td>\"Hi Zaha\"</td>\n      <td>other</td>\n    </tr>\n    <tr>\n      <th>97</th>\n      <td>\"What would you like to know\"</td>\n      <td>other</td>\n    </tr>\n    <tr>\n      <th>123</th>\n      <td>\"spaces\"</td>\n      <td>Environment and climate resilience, Land use</td>\n    </tr>\n    <tr>\n      <th>127</th>\n      <td>\"trees grass\"</td>\n      <td>Environment and climate resilience, Land use</td>\n    </tr>\n    <tr>\n      <th>129</th>\n      <td>\"spaces\"</td>\n      <td>Environment and climate resilience, Land use</td>\n    </tr>\n    <tr>\n      <th>130</th>\n      <td>\"history\"</td>\n      <td>Local identity</td>\n    </tr>\n    <tr>\n      <th>131</th>\n      <td>\"history\"</td>\n      <td>Local identity</td>\n    </tr>\n    <tr>\n      <th>132</th>\n      <td>\"spaces\"</td>\n      <td>Environment and climate resilience, Land use</td>\n    </tr>\n    <tr>\n      <th>133</th>\n      <td>\"trees grass\"</td>\n      <td>Environment and climate resilience</td>\n    </tr>\n    <tr>\n      <th>134</th>\n      <td>\"modern\"</td>\n      <td>Local identity</td>\n    </tr>\n    <tr>\n      <th>135</th>\n      <td>\"history\"</td>\n      <td>Local identity</td>\n    </tr>\n    <tr>\n      <th>139</th>\n      <td>\"not too high\"</td>\n      <td>Environment and climate resilience</td>\n    </tr>\n    <tr>\n      <th>142</th>\n      <td>\"safe\"</td>\n      <td>Environment and climate resilience</td>\n    </tr>\n    <tr>\n      <th>144</th>\n      <td>\"safe\"</td>\n      <td>other</td>\n    </tr>\n    <tr>\n      <th>169</th>\n      <td>\"What would you like to know\"</td>\n      <td>other</td>\n    </tr>\n    <tr>\n      <th>191</th>\n      <td>\"Hi Zaha\"</td>\n      <td>other</td>\n    </tr>\n    <tr>\n      <th>216</th>\n      <td>\"Hi Zaha\"</td>\n      <td>other</td>\n    </tr>\n    <tr>\n      <th>242</th>\n      <td>\"no\"</td>\n      <td>other</td>\n    </tr>\n    <tr>\n      <th>247</th>\n      <td>\"modern\"</td>\n      <td>Local identity</td>\n    </tr>\n    <tr>\n      <th>361</th>\n      <td>\"not too high\"</td>\n      <td>Land use</td>\n    </tr>\n  </tbody>\n</table>\n</div>"
     },
     "execution_count": 7,
     "metadata": {},
     "output_type": "execute_result"
    }
   ],
   "source": [
    "# Create a boolean mask for duplicated sentences\n",
    "mask = data[\"Sentence\"].duplicated(keep=False)\n",
    "\n",
    "# Print the rows with duplicated sentences\n",
    "data[mask]\n"
   ],
   "metadata": {
    "collapsed": false,
    "pycharm": {
     "name": "#%%\n"
    }
   }
  },
  {
   "cell_type": "code",
   "execution_count": 8,
   "outputs": [
    {
     "name": "stdout",
     "output_type": "stream",
     "text": [
      "There are 348 rows in the deduplicated dataset.\n",
      "categories upon once only: 14\n",
      "unique categories: 31\n"
     ]
    }
   ],
   "source": [
    "data = data[~data[\"Sentence\"].duplicated()]\n",
    "print(f\"There are {len(data)} rows in the deduplicated dataset.\")\n",
    "\n",
    "# There are some categories with occurrence as low as 1.\n",
    "print(\"categories upon once only:\",sum(data[\"category\"].value_counts() == 1))\n",
    "\n",
    "# How many unique terms?\n",
    "print(\"unique categories:\",data[\"category\"].nunique())"
   ],
   "metadata": {
    "collapsed": false,
    "pycharm": {
     "name": "#%%\n"
    }
   }
  },
  {
   "cell_type": "markdown",
   "source": [
    "We need to handle the categories upon only once, its problematic for multi-label text classifier"
   ],
   "metadata": {
    "collapsed": false,
    "pycharm": {
     "name": "#%% md\n"
    }
   }
  },
  {
   "cell_type": "code",
   "execution_count": 9,
   "outputs": [],
   "source": [
    "def get_single_occurrence_categories(data):\n",
    "    # Get the categories that appear only once\n",
    "    single_occurrence_categories = data['category'].value_counts()\n",
    "    single_occurrence_categories = single_occurrence_categories[single_occurrence_categories == 1].index\n",
    "\n",
    "    # Get the rows where 'category' is in the list of single-occurrence categories\n",
    "    once_sen = data[data['category'].isin(single_occurrence_categories)]\n",
    "    return once_sen\n"
   ],
   "metadata": {
    "collapsed": false,
    "pycharm": {
     "name": "#%%\n"
    }
   }
  },
  {
   "cell_type": "code",
   "execution_count": 10,
   "outputs": [
    {
     "data": {
      "text/plain": "                                              Sentence   \n15   \"hi, i think if there´s more free use co-worki...  \\\n19   \"The building should be more open for the soci...   \n22   \"To have a cafe on the ground floor would be n...   \n53                             \"Can we have a garden?\"   \n110  \"I agree! Architecture students should be insp...   \n145  \"The building should have several spaces for g...   \n183       \"Can I 3d print infra lightweight concrete?\"   \n194  \"I think it should be more inviting compared t...   \n198  \"There should be greenery aroud the building, ...   \n226  \"I think that a good architecture school shoul...   \n239  \"Hello Zaha, nice to meet you! I'm glad to be ...   \n316  \"I hope in office room or big classroom there ...   \n325  \"it should be 3-4 floors in height and have bo...   \n335  \"Who's your favorite architect what's your fav...   \n\n                                              category  \n15   Local identity, Environment and climate resili...  \n19   Local identity, Environment and climate resili...  \n22                Local identity, Mobility (transport)  \n53        Land use, Environment and climate resilience  \n110  Environment and climate resilience, Future of ...  \n145  Environment and climate resilience, Local iden...  \n183                           Future of work; Land use  \n194                           Local identity; Land use  \n198       Environment and climate resilience; Land use  \n226                           Land use; Local identity  \n239  Environment and climate resilience; Local iden...  \n316                                     Indoor comfort  \n325                     Mobility (transport), Land use  \n335               Mobility (transport), Local identity  ",
      "text/html": "<div>\n<style scoped>\n    .dataframe tbody tr th:only-of-type {\n        vertical-align: middle;\n    }\n\n    .dataframe tbody tr th {\n        vertical-align: top;\n    }\n\n    .dataframe thead th {\n        text-align: right;\n    }\n</style>\n<table border=\"1\" class=\"dataframe\">\n  <thead>\n    <tr style=\"text-align: right;\">\n      <th></th>\n      <th>Sentence</th>\n      <th>category</th>\n    </tr>\n  </thead>\n  <tbody>\n    <tr>\n      <th>15</th>\n      <td>\"hi, i think if there´s more free use co-worki...</td>\n      <td>Local identity, Environment and climate resili...</td>\n    </tr>\n    <tr>\n      <th>19</th>\n      <td>\"The building should be more open for the soci...</td>\n      <td>Local identity, Environment and climate resili...</td>\n    </tr>\n    <tr>\n      <th>22</th>\n      <td>\"To have a cafe on the ground floor would be n...</td>\n      <td>Local identity, Mobility (transport)</td>\n    </tr>\n    <tr>\n      <th>53</th>\n      <td>\"Can we have a garden?\"</td>\n      <td>Land use, Environment and climate resilience</td>\n    </tr>\n    <tr>\n      <th>110</th>\n      <td>\"I agree! Architecture students should be insp...</td>\n      <td>Environment and climate resilience, Future of ...</td>\n    </tr>\n    <tr>\n      <th>145</th>\n      <td>\"The building should have several spaces for g...</td>\n      <td>Environment and climate resilience, Local iden...</td>\n    </tr>\n    <tr>\n      <th>183</th>\n      <td>\"Can I 3d print infra lightweight concrete?\"</td>\n      <td>Future of work; Land use</td>\n    </tr>\n    <tr>\n      <th>194</th>\n      <td>\"I think it should be more inviting compared t...</td>\n      <td>Local identity; Land use</td>\n    </tr>\n    <tr>\n      <th>198</th>\n      <td>\"There should be greenery aroud the building, ...</td>\n      <td>Environment and climate resilience; Land use</td>\n    </tr>\n    <tr>\n      <th>226</th>\n      <td>\"I think that a good architecture school shoul...</td>\n      <td>Land use; Local identity</td>\n    </tr>\n    <tr>\n      <th>239</th>\n      <td>\"Hello Zaha, nice to meet you! I'm glad to be ...</td>\n      <td>Environment and climate resilience; Local iden...</td>\n    </tr>\n    <tr>\n      <th>316</th>\n      <td>\"I hope in office room or big classroom there ...</td>\n      <td>Indoor comfort</td>\n    </tr>\n    <tr>\n      <th>325</th>\n      <td>\"it should be 3-4 floors in height and have bo...</td>\n      <td>Mobility (transport), Land use</td>\n    </tr>\n    <tr>\n      <th>335</th>\n      <td>\"Who's your favorite architect what's your fav...</td>\n      <td>Mobility (transport), Local identity</td>\n    </tr>\n  </tbody>\n</table>\n</div>"
     },
     "execution_count": 10,
     "metadata": {},
     "output_type": "execute_result"
    }
   ],
   "source": [
    "once_sen = get_single_occurrence_categories(data)\n",
    "once_sen\n"
   ],
   "metadata": {
    "collapsed": false,
    "pycharm": {
     "name": "#%%\n"
    }
   }
  },
  {
   "cell_type": "code",
   "execution_count": 11,
   "outputs": [],
   "source": [
    "# Replace \";\" with \",\"\n",
    "data['category'] = data['category'].str.replace(';', ',')\n"
   ],
   "metadata": {
    "collapsed": false,
    "pycharm": {
     "name": "#%%\n"
    }
   }
  },
  {
   "cell_type": "code",
   "execution_count": 12,
   "outputs": [
    {
     "data": {
      "text/plain": "array([list(['Land use']), list(['Local identity']), list(['Land use']),\n       list(['Land use', 'Future of work']), list(['Land use'])],\n      dtype=object)"
     },
     "execution_count": 12,
     "metadata": {},
     "output_type": "execute_result"
    }
   ],
   "source": [
    "data[\"category\"] = data[\"category\"].apply(\n",
    "    lambda x: x.split(', ')\n",
    ")\n",
    "data[\"category\"].values[:5]\n"
   ],
   "metadata": {
    "collapsed": false,
    "pycharm": {
     "name": "#%%\n"
    }
   }
  },
  {
   "cell_type": "code",
   "execution_count": 13,
   "outputs": [
    {
     "data": {
      "text/plain": "                                              Sentence   \n15   \"hi, i think if there´s more free use co-worki...  \\\n19   \"The building should be more open for the soci...   \n22   \"To have a cafe on the ground floor would be n...   \n53                             \"Can we have a garden?\"   \n110  \"I agree! Architecture students should be insp...   \n145  \"The building should have several spaces for g...   \n239  \"Hello Zaha, nice to meet you! I'm glad to be ...   \n316  \"I hope in office room or big classroom there ...   \n335  \"Who's your favorite architect what's your fav...   \n\n                                              category  \n15   [Local identity, Environment and climate resil...  \n19   [Local identity, Environment and climate resil...  \n22              [Local identity, Mobility (transport)]  \n53      [Land use, Environment and climate resilience]  \n110  [Environment and climate resilience, Future of...  \n145  [Environment and climate resilience, Local ide...  \n239  [Environment and climate resilience, Local ide...  \n316                                   [Indoor comfort]  \n335             [Mobility (transport), Local identity]  ",
      "text/html": "<div>\n<style scoped>\n    .dataframe tbody tr th:only-of-type {\n        vertical-align: middle;\n    }\n\n    .dataframe tbody tr th {\n        vertical-align: top;\n    }\n\n    .dataframe thead th {\n        text-align: right;\n    }\n</style>\n<table border=\"1\" class=\"dataframe\">\n  <thead>\n    <tr style=\"text-align: right;\">\n      <th></th>\n      <th>Sentence</th>\n      <th>category</th>\n    </tr>\n  </thead>\n  <tbody>\n    <tr>\n      <th>15</th>\n      <td>\"hi, i think if there´s more free use co-worki...</td>\n      <td>[Local identity, Environment and climate resil...</td>\n    </tr>\n    <tr>\n      <th>19</th>\n      <td>\"The building should be more open for the soci...</td>\n      <td>[Local identity, Environment and climate resil...</td>\n    </tr>\n    <tr>\n      <th>22</th>\n      <td>\"To have a cafe on the ground floor would be n...</td>\n      <td>[Local identity, Mobility (transport)]</td>\n    </tr>\n    <tr>\n      <th>53</th>\n      <td>\"Can we have a garden?\"</td>\n      <td>[Land use, Environment and climate resilience]</td>\n    </tr>\n    <tr>\n      <th>110</th>\n      <td>\"I agree! Architecture students should be insp...</td>\n      <td>[Environment and climate resilience, Future of...</td>\n    </tr>\n    <tr>\n      <th>145</th>\n      <td>\"The building should have several spaces for g...</td>\n      <td>[Environment and climate resilience, Local ide...</td>\n    </tr>\n    <tr>\n      <th>239</th>\n      <td>\"Hello Zaha, nice to meet you! I'm glad to be ...</td>\n      <td>[Environment and climate resilience, Local ide...</td>\n    </tr>\n    <tr>\n      <th>316</th>\n      <td>\"I hope in office room or big classroom there ...</td>\n      <td>[Indoor comfort]</td>\n    </tr>\n    <tr>\n      <th>335</th>\n      <td>\"Who's your favorite architect what's your fav...</td>\n      <td>[Mobility (transport), Local identity]</td>\n    </tr>\n  </tbody>\n</table>\n</div>"
     },
     "execution_count": 13,
     "metadata": {},
     "output_type": "execute_result"
    }
   ],
   "source": [
    "once_sen = get_single_occurrence_categories(data)\n",
    "once_sen"
   ],
   "metadata": {
    "collapsed": false,
    "pycharm": {
     "name": "#%%\n"
    }
   }
  },
  {
   "cell_type": "markdown",
   "source": [
    "The categories that appear once in the data we took from 14 to 9.\n",
    "Now for those 9 - we will separate them to different rows"
   ],
   "metadata": {
    "collapsed": false,
    "pycharm": {
     "name": "#%% md\n"
    }
   }
  },
  {
   "cell_type": "code",
   "execution_count": 14,
   "outputs": [],
   "source": [
    "# Create a list to store the new rows\n",
    "new_rows = []\n",
    "\n",
    "# Iterate over the rows in the dataframe where category is in single_occurrence_categories\n",
    "for idx, row in once_sen.iterrows():\n",
    "    # Iterate over the categories in the 'category' column\n",
    "    for cat in row['category']:\n",
    "        new_row = {'Sentence': row['Sentence'], 'category': [cat]}\n",
    "        # Only add the new row if it is not already in new_rows\n",
    "        if new_row not in new_rows:\n",
    "            new_rows.append(new_row)\n",
    "    data = data.drop(idx)\n",
    "\n",
    "# Create a new DataFrame from the new rows\n",
    "new_rows_df = pd.DataFrame(new_rows)\n",
    "\n",
    "# Append the new rows to the dataframe using concat\n",
    "data = pd.concat([data, new_rows_df], ignore_index=True)\n"
   ],
   "metadata": {
    "collapsed": false,
    "pycharm": {
     "name": "#%%\n"
    }
   }
  },
  {
   "cell_type": "code",
   "execution_count": 15,
   "outputs": [
    {
     "name": "stdout",
     "output_type": "stream",
     "text": [
      "There are 0 duplicates.\n"
     ]
    }
   ],
   "source": [
    "# Convert lists in 'category' to tuples\n",
    "new_rows_df['category'] = new_rows_df['category'].apply(tuple)\n",
    "\n",
    "# Then check for duplicates\n",
    "total_duplicate_titles = new_rows_df.duplicated().sum()\n",
    "print(f\"There are {total_duplicate_titles} duplicates.\")\n",
    "\n"
   ],
   "metadata": {
    "collapsed": false,
    "pycharm": {
     "name": "#%%\n"
    }
   }
  },
  {
   "cell_type": "code",
   "execution_count": 16,
   "outputs": [
    {
     "name": "stdout",
     "output_type": "stream",
     "text": [
      "\"The building should be more open for the society.\"\n"
     ]
    },
    {
     "data": {
      "text/plain": "                                              Sentence   \n342  \"The building should be more open for the soci...  \\\n343  \"The building should be more open for the soci...   \n\n                                 category  \n342                      [Local identity]  \n343  [Environment and climate resilience]  ",
      "text/html": "<div>\n<style scoped>\n    .dataframe tbody tr th:only-of-type {\n        vertical-align: middle;\n    }\n\n    .dataframe tbody tr th {\n        vertical-align: top;\n    }\n\n    .dataframe thead th {\n        text-align: right;\n    }\n</style>\n<table border=\"1\" class=\"dataframe\">\n  <thead>\n    <tr style=\"text-align: right;\">\n      <th></th>\n      <th>Sentence</th>\n      <th>category</th>\n    </tr>\n  </thead>\n  <tbody>\n    <tr>\n      <th>342</th>\n      <td>\"The building should be more open for the soci...</td>\n      <td>[Local identity]</td>\n    </tr>\n    <tr>\n      <th>343</th>\n      <td>\"The building should be more open for the soci...</td>\n      <td>[Environment and climate resilience]</td>\n    </tr>\n  </tbody>\n</table>\n</div>"
     },
     "execution_count": 16,
     "metadata": {},
     "output_type": "execute_result"
    }
   ],
   "source": [
    "# There are some categories with occurrence as low as 1.\n",
    "print(once_sen['Sentence'][19])\n",
    "data[data['Sentence'] == once_sen['Sentence'][19]]\n",
    "# this cell for checking it was separated"
   ],
   "metadata": {
    "collapsed": false,
    "pycharm": {
     "name": "#%%\n"
    }
   }
  },
  {
   "cell_type": "code",
   "execution_count": 17,
   "outputs": [
    {
     "data": {
      "text/plain": "(361, 2)"
     },
     "execution_count": 17,
     "metadata": {},
     "output_type": "execute_result"
    }
   ],
   "source": [
    "data.shape"
   ],
   "metadata": {
    "collapsed": false,
    "pycharm": {
     "name": "#%%\n"
    }
   }
  },
  {
   "cell_type": "code",
   "execution_count": 18,
   "outputs": [],
   "source": [
    "# Get the categories that appear more than once\n",
    "multi_occurrence_categories = data['category'].value_counts()\n",
    "multi_occurrence_categories = multi_occurrence_categories[multi_occurrence_categories > 1].index\n",
    "\n",
    "# Filter the data to only include rows where 'category' is in the list of multi-occurrence categories\n",
    "data = data[data['category'].isin(multi_occurrence_categories)]\n"
   ],
   "metadata": {
    "collapsed": false,
    "pycharm": {
     "name": "#%%\n"
    }
   }
  },
  {
   "cell_type": "code",
   "execution_count": 19,
   "outputs": [
    {
     "data": {
      "text/plain": "(360, 2)"
     },
     "execution_count": 19,
     "metadata": {},
     "output_type": "execute_result"
    }
   ],
   "source": [
    "data.shape"
   ],
   "metadata": {
    "collapsed": false,
    "pycharm": {
     "name": "#%%\n"
    }
   }
  },
  {
   "cell_type": "code",
   "execution_count": 20,
   "outputs": [
    {
     "name": "stdout",
     "output_type": "stream",
     "text": [
      "Number of rows in training set: 252\n",
      "Number of rows in validation set: 54\n",
      "Number of rows in test set: 54\n"
     ]
    }
   ],
   "source": [
    "test_split = 0.3\n",
    "\n",
    "\n",
    "# Initial train and test split.\n",
    "train_df, test_df = train_test_split(\n",
    "    data,\n",
    "    test_size=test_split,\n",
    "    stratify=data[\"category\"].values,\n",
    ")\n",
    "\n",
    "# Splitting the test set further into validation\n",
    "# and new test sets.\n",
    "val_df = test_df.sample(frac=0.5)\n",
    "test_df.drop(val_df.index, inplace=True)\n",
    "\n",
    "print(f\"Number of rows in training set: {len(train_df)}\")\n",
    "print(f\"Number of rows in validation set: {len(val_df)}\")\n",
    "print(f\"Number of rows in test set: {len(test_df)}\")"
   ],
   "metadata": {
    "collapsed": false,
    "pycharm": {
     "name": "#%%\n"
    }
   }
  },
  {
   "cell_type": "code",
   "execution_count": 21,
   "outputs": [
    {
     "name": "stdout",
     "output_type": "stream",
     "text": [
      "<tf.RaggedTensor [[b'Environment and climate resilience'], [b'Local identity'],\n",
      " [b'Local identity'], [b'Environment and climate resilience'],\n",
      " [b'Land use', b'Local identity'], [b'other'], [b'other'],\n",
      " [b'Local identity'], [b'Land use'], [b'Land use'], [b'other'],\n",
      " [b'Environment and climate resilience'],\n",
      " [b'Environment and climate resilience'], [b'Land use'], [b'other'],\n",
      " [b'Future of work', b'Local identity'], [b'Future of work', b'Land use'],\n",
      " [b'other'], [b'Land use'], [b'Land use'],\n",
      " [b'Environment and climate resilience'], [b'Land use'], [b'other'],\n",
      " [b'Future of work'], [b'Environment and climate resilience'],\n",
      " [b'Land use', b'Future of work'],\n",
      " [b'Environment and climate resilience', b'Land use'],\n",
      " [b'Local identity', b'Land use'], [b'other'], [b'Land use'], [b'other'],\n",
      " [b'Environment and climate resilience', b'Local identity'],\n",
      " [b'Environment and climate resilience'], [b'Local identity'],\n",
      " [b'Land use'], [b'Environment and climate resilience'], [b'Land use'],\n",
      " [b'Environment and climate resilience'],\n",
      " [b'Environment and climate resilience'], [b'Land use'],\n",
      " [b'Local identity'], [b'Local identity'], [b'Land use'],\n",
      " [b'Environment and climate resilience'], [b'Land use'],\n",
      " [b'Environment and climate resilience', b'Land use'], [b'other'],\n",
      " [b'Local identity'], [b'Environment and climate resilience'], [b'other'],\n",
      " [b'other'], [b'Environment and climate resilience'], [b'other'],\n",
      " [b'Mobility (transport)', b'Future of work'],\n",
      " [b'Future of work', b'Land use'], [b'Land use'], [b'other'],\n",
      " [b'Environment and climate resilience'],\n",
      " [b'Environment and climate resilience'], [b'Future of work'],\n",
      " [b'Environment and climate resilience'], [b'other'], [b'Future of work'],\n",
      " [b'Local identity', b'Land use'], [b'Mobility (transport)'], [b'other'],\n",
      " [b'Land use', b'Local identity'], [b'other'], [b'Land use'],\n",
      " [b'Environment and climate resilience'], [b'Future of work'], [b'other'],\n",
      " [b'other'], [b'Local identity'], [b'Land use'], [b'Future of work'],\n",
      " [b'Local identity'], [b'Local identity'], [b'Future of work'],\n",
      " [b'Future of work'], [b'Local identity'], [b'Local identity'],\n",
      " [b'Environment and climate resilience', b'Land use'],\n",
      " [b'Land use', b'Local identity'], [b'Environment and climate resilience'],\n",
      " [b'Environment and climate resilience'], [b'other'], [b'Local identity'],\n",
      " [b'Future of work'], [b'Future of work'],\n",
      " [b'Environment and climate resilience'],\n",
      " [b'Environment and climate resilience', b'Local identity', b'Land use'],\n",
      " [b'Mobility (transport)', b'Land use'], [b'Land use'], [b'Land use'],\n",
      " [b'Land use'], [b'Local identity'], [b'other'], [b'Land use'],\n",
      " [b'Environment and climate resilience'], [b'Future of work'], [b'other'],\n",
      " [b'Environment and climate resilience'], [b'Future of work'],\n",
      " [b'Local identity', b'Land use'],\n",
      " [b'Environment and climate resilience', b'Local identity', b'Land use'],\n",
      " [b'other'], [b'Land use'], [b'Land use'], [b'Land use'],\n",
      " [b'Environment and climate resilience'], [b'Land use'], [b'Land use'],\n",
      " [b'other'], [b'Land use'], [b'Environment and climate resilience'],\n",
      " [b'Local identity'], [b'Land use'], [b'Local identity'],\n",
      " [b'Environment and climate resilience'], [b'other'], [b'other'],\n",
      " [b'Environment and climate resilience'], [b'Land use'],\n",
      " [b'Local identity'], [b'other'], [b'Local identity'], [b'other'],\n",
      " [b'Environment and climate resilience', b'Land use'],\n",
      " [b'Environment and climate resilience'], [b'Local identity'],\n",
      " [b'Mobility (transport)'], [b'other'], [b'other'], [b'other'], [b'other'],\n",
      " [b'other'], [b'Environment and climate resilience'], [b'Land use'],\n",
      " [b'other'], [b'Local identity'], [b'Land use', b'Future of work'],\n",
      " [b'Land use'], [b'other'], [b'other'],\n",
      " [b'Environment and climate resilience'], [b'Local identity'],\n",
      " [b'Environment and climate resilience'], [b'Future of work'], [b'other'],\n",
      " [b'Future of work'], [b'other'], [b'Local identity'], [b'Future of work'],\n",
      " [b'Land use'], [b'Future of work'], [b'Local identity'],\n",
      " [b'Future of work'], [b'other'], [b'Local identity'], [b'Future of work'],\n",
      " [b'other'], [b'Local identity'], [b'Land use'], [b'other'], [b'Land use'],\n",
      " [b'Land use'], [b'other'], [b'Land use'], [b'Land use'], [b'Land use'],\n",
      " [b'Environment and climate resilience', b'Local identity'], [b'Land use'],\n",
      " [b'other'], [b'Land use'], [b'Mobility (transport)', b'Land use'],\n",
      " [b'Environment and climate resilience', b'Local identity'], [b'Land use'],\n",
      " [b'Land use'], [b'Environment and climate resilience'],\n",
      " [b'Environment and climate resilience', b'Land use'], [b'other'],\n",
      " [b'other'], [b'other'], [b'Local identity'], [b'Future of work'],\n",
      " [b'Land use'], [b'Environment and climate resilience'], [b'other'],\n",
      " [b'other'], [b'Local identity'], [b'other'], [b'Future of work'],\n",
      " [b'Environment and climate resilience'],\n",
      " [b'Environment and climate resilience'], [b'Future of work'],\n",
      " [b'Land use'], [b'Future of work', b'Land use'], [b'Land use'],\n",
      " [b'Land use'], [b'Environment and climate resilience'],\n",
      " [b'Environment and climate resilience', b'Land use'], [b'Land use'],\n",
      " [b'Environment and climate resilience', b'Local identity'],\n",
      " [b'Local identity'], [b'Land use'], [b'Mobility (transport)'],\n",
      " [b'Future of work', b'Land use'],\n",
      " [b'Environment and climate resilience', b'Land use'], [b'Local identity'],\n",
      " [b'Land use'], [b'other'], [b'Environment and climate resilience'],\n",
      " [b'other'], [b'Local identity'], [b'Local identity'], [b'other'],\n",
      " [b'Environment and climate resilience'], [b'Local identity'],\n",
      " [b'Environment and climate resilience'], [b'Mobility (transport)'],\n",
      " [b'Future of work'], [b'Land use'], [b'Land use'],\n",
      " [b'Local identity', b'Future of work'], [b'Land use'],\n",
      " [b'Future of work'], [b'Local identity'], [b'Local identity'],\n",
      " [b'Environment and climate resilience'], [b'Local identity'], [b'other'],\n",
      " [b'Environment and climate resilience'], [b'Land use'], [b'other'],\n",
      " [b'Environment and climate resilience'], [b'Local identity'],\n",
      " [b'Land use'], [b'Mobility (transport)'], [b'Land use'],\n",
      " [b'Future of work'], [b'other'], [b'other'], [b'other'], [b'other'],\n",
      " [b'other'], [b'other'], [b'other'], [b'other'], [b'other'],\n",
      " [b'Local identity'], [b'Local identity']]>\n"
     ]
    }
   ],
   "source": [
    "\n",
    "categories = tf.ragged.constant(train_df[\"category\"].values)\n",
    "print(categories)"
   ],
   "metadata": {
    "collapsed": false,
    "pycharm": {
     "name": "#%%\n"
    }
   }
  },
  {
   "cell_type": "markdown",
   "source": [
    "## multi-hot encoding\n",
    "We will convert the  categorical data into a form that can be used by deep learning models.\n",
    "because we are dealing with multi-label classification problem.\n"
   ],
   "metadata": {
    "collapsed": false,
    "pycharm": {
     "name": "#%% md\n"
    }
   }
  },
  {
   "cell_type": "code",
   "execution_count": 22,
   "outputs": [
    {
     "name": "stdout",
     "output_type": "stream",
     "text": [
      "set()\n"
     ]
    }
   ],
   "source": [
    "# Convert tensors to numpy arrays and then to sets of tuples for set operations\n",
    "train_categories_tensor = tf.ragged.constant(train_df[\"category\"].values)\n",
    "test_categories_tensor = tf.ragged.constant(test_df[\"category\"].values)\n",
    "\n",
    "train_categories = set(tuple(x) for x in train_categories_tensor.to_list())\n",
    "test_categories = set(tuple(x) for x in test_categories_tensor.to_list())\n",
    "\n",
    "categories_not_in_train = test_categories - train_categories\n",
    "\n",
    "print(categories_not_in_train)\n"
   ],
   "metadata": {
    "collapsed": false,
    "pycharm": {
     "name": "#%%\n"
    }
   }
  },
  {
   "cell_type": "markdown",
   "source": [
    "the result is an empty set (set())- it means there are no categories that exist in the test set but not in the training set"
   ],
   "metadata": {
    "collapsed": false,
    "pycharm": {
     "name": "#%% md\n"
    }
   }
  },
  {
   "cell_type": "code",
   "execution_count": 23,
   "outputs": [
    {
     "name": "stdout",
     "output_type": "stream",
     "text": [
      "Vocabulary:\n",
      "\n",
      "['Land use', 'other', 'Environment and climate resilience', 'Local identity', 'Future of work', 'Mobility (transport)']\n"
     ]
    }
   ],
   "source": [
    "categories = tf.ragged.constant(train_df[\"category\"].values)\n",
    "lookup = tf.keras.layers.StringLookup(output_mode=\"multi_hot\", num_oov_indices=0)\n",
    "lookup.adapt(categories)\n",
    "vocab = lookup.get_vocabulary()\n",
    "\n",
    "\n",
    "def invert_multi_hot(encoded_labels):\n",
    "    \"\"\"Reverse a single multi-hot encoded label to a tuple of vocab terms.\"\"\"\n",
    "    hot_indices = np.argwhere(encoded_labels == 1.0)[..., 0]\n",
    "    return np.take(vocab, hot_indices)\n",
    "\n",
    "\n",
    "print(\"Vocabulary:\\n\")\n",
    "print(vocab)"
   ],
   "metadata": {
    "collapsed": false,
    "pycharm": {
     "name": "#%%\n"
    }
   }
  },
  {
   "cell_type": "code",
   "execution_count": 24,
   "outputs": [
    {
     "name": "stdout",
     "output_type": "stream",
     "text": [
      "Original label: ['Environment and climate resilience']\n",
      "Label-binarized representation: [[0. 0. 1. 0. 0. 0.]]\n"
     ]
    }
   ],
   "source": [
    "sample_label = train_df[\"category\"].iloc[0]\n",
    "print(f\"Original label: {sample_label}\")\n",
    "\n",
    "label_binarized = lookup([sample_label])\n",
    "print(f\"Label-binarized representation: {label_binarized}\")"
   ],
   "metadata": {
    "collapsed": false,
    "pycharm": {
     "name": "#%%\n"
    }
   }
  },
  {
   "cell_type": "code",
   "execution_count": 25,
   "outputs": [
    {
     "data": {
      "text/plain": "count    252.000000\nmean      13.515873\nstd       23.430234\nmin        1.000000\n25%        5.000000\n50%        8.000000\n75%       13.000000\nmax      179.000000\nName: Sentence, dtype: float64"
     },
     "execution_count": 25,
     "metadata": {},
     "output_type": "execute_result"
    }
   ],
   "source": [
    "train_df[\"Sentence\"].apply(lambda x: len(x.split(\" \"))).describe()\n"
   ],
   "metadata": {
    "collapsed": false,
    "pycharm": {
     "name": "#%%\n"
    }
   }
  },
  {
   "cell_type": "markdown",
   "source": [
    " the 75th percentile is at 13, meaning that 75% of the sentences have a length of 13 or less.\n",
    " and the maximum length observed is 179"
   ],
   "metadata": {
    "collapsed": false,
    "pycharm": {
     "name": "#%% md\n"
    }
   }
  },
  {
   "cell_type": "code",
   "execution_count": 26,
   "outputs": [],
   "source": [
    "\n",
    "max_seqlen = 20\n",
    "batch_size = 128\n",
    "padding_token = \"<pad>\"\n",
    "auto = tf.data.AUTOTUNE\n",
    "\n",
    "\n",
    "def make_dataset(dataframe, is_train=True):\n",
    "    labels = tf.ragged.constant(dataframe[\"category\"].values)\n",
    "    label_binarized = lookup(labels).numpy()\n",
    "    dataset = tf.data.Dataset.from_tensor_slices(\n",
    "        (dataframe[\"Sentence\"].values, label_binarized)\n",
    "    )\n",
    "    dataset = dataset.shuffle(batch_size * 10) if is_train else dataset\n",
    "    return dataset.batch(batch_size)"
   ],
   "metadata": {
    "collapsed": false,
    "pycharm": {
     "name": "#%%\n"
    }
   }
  },
  {
   "cell_type": "code",
   "execution_count": 27,
   "outputs": [],
   "source": [
    "train_dataset = make_dataset(train_df, is_train=True)\n",
    "validation_dataset = make_dataset(val_df, is_train=False)\n",
    "test_dataset = make_dataset(test_df, is_train=False)"
   ],
   "metadata": {
    "collapsed": false,
    "pycharm": {
     "name": "#%%\n"
    }
   }
  },
  {
   "cell_type": "code",
   "execution_count": 28,
   "outputs": [
    {
     "data": {
      "text/plain": "                                              Sentence   \n62                          \"We need more free space \"  \\\n41                         \"minimalistic architecture\"   \n124                                   \"open to street\"   \n336                        \"and should be interesting\"   \n81                      \"What would you design there?\"   \n109            \"Do you know of the slide in Garching?\"   \n214     \"Can you tell a good building from a bad one?\"   \n82                                  \"Thats not enough\"   \n220  \"I think that Zaha Hadid design terrible build...   \n241  \"the building should optimize the energy consu...   \n67                                         \"How many?\"   \n289  \"I hope there can be some automatic control sy...   \n100  \"Another thing that has always bothered me wit...   \n311                     \"Where did learn architecture\"   \n331               \"a beautiful courtyard is also good\"   \n72                                   \"okay looks good\"   \n341  \"hi, i think if there´s more free use co-worki...   \n280  \"Wil the building be a passive building or at ...   \n210  \"The collective space should be the core of th...   \n235  \"the building should have connected spaces for...   \n252                       \"Will there be a cafeteria?\"   \n14   \"well if we intend to maintain ceratin parts o...   \n222                          \"hide in the environment\"   \n110  \"I think the building should reflect the value...   \n230  \"not too big but with huge windows and big stu...   \n139  \"Do you think ai will replace architects in th...   \n35                                         \"west-east\"   \n347                            \"Can we have a garden?\"   \n59                                    \"Yellow or gray\"   \n357  \"Hello Zaha, nice to meet you! I'm glad to be ...   \n138                       \"I want a grade on the roof\"   \n333            \"And the space should show our history\"   \n326                          \"keep it sefe from thief\"   \n44   \"and some tables that can be used by everybody...   \n227                                          \"finish?\"   \n51                       \"How many classrooms will be\"   \n188   \"There should be a makerspace for model making.\"   \n286           \"How many rooms does the building have?\"   \n352  \"The building should have several spaces for g...   \n56   \"How can the building have a positive impact o...   \n266                \"Will it receive DGNB certificate?\"   \n208         \"Do you have any reference for the desin?\"   \n191                        \"that was all of my ideas.\"   \n149  \"I think the building should have an outdoor s...   \n52                                                \"20\"   \n130                                             \"safe\"   \n270  \"It should be fokused on student work which is...   \n334                         \"the space should be rich\"   \n272  \"working in teams is essential for a collabora...   \n260                 \"Oh nice, I didnt know it was you\"   \n152  \"We should let spaces be big but able to separ...   \n163               \"How do I waterproof the structure？\"   \n89            \"Is that how what do you think about my\"   \n290                       \"Is there a cooling system?\"   \n\n                                              category  \n62                                          [Land use]  \n41                                    [Local identity]  \n124                             [Mobility (transport)]  \n336                                   [Local identity]  \n81                                    [Future of work]  \n109                                   [Local identity]  \n214                                            [other]  \n82                                             [other]  \n220                                   [Local identity]  \n241               [Environment and climate resilience]  \n67                                             [other]  \n289               [Environment and climate resilience]  \n100                                   [Local identity]  \n311                                            [other]  \n331                                   [Local identity]  \n72                [Environment and climate resilience]  \n341                                   [Future of work]  \n280               [Environment and climate resilience]  \n210                                         [Land use]  \n235                                         [Land use]  \n252                                         [Land use]  \n14                                          [Land use]  \n222               [Environment and climate resilience]  \n110                                   [Local identity]  \n230                                         [Land use]  \n139                                   [Future of work]  \n35                                          [Land use]  \n347               [Environment and climate resilience]  \n59                                    [Local identity]  \n357                             [Mobility (transport)]  \n138                                         [Land use]  \n333                                   [Local identity]  \n326                                   [Future of work]  \n44                          [Future of work, Land use]  \n227                                            [other]  \n51                                    [Future of work]  \n188                                         [Land use]  \n286                                         [Land use]  \n352                                   [Future of work]  \n56   [Environment and climate resilience, Local ide...  \n266               [Environment and climate resilience]  \n208                                            [other]  \n191                                            [other]  \n149     [Environment and climate resilience, Land use]  \n52                                             [other]  \n130               [Environment and climate resilience]  \n270                                         [Land use]  \n334                                   [Local identity]  \n272                                         [Land use]  \n260                                            [other]  \n152                                         [Land use]  \n163               [Environment and climate resilience]  \n89                                             [other]  \n290               [Environment and climate resilience]  ",
      "text/html": "<div>\n<style scoped>\n    .dataframe tbody tr th:only-of-type {\n        vertical-align: middle;\n    }\n\n    .dataframe tbody tr th {\n        vertical-align: top;\n    }\n\n    .dataframe thead th {\n        text-align: right;\n    }\n</style>\n<table border=\"1\" class=\"dataframe\">\n  <thead>\n    <tr style=\"text-align: right;\">\n      <th></th>\n      <th>Sentence</th>\n      <th>category</th>\n    </tr>\n  </thead>\n  <tbody>\n    <tr>\n      <th>62</th>\n      <td>\"We need more free space \"</td>\n      <td>[Land use]</td>\n    </tr>\n    <tr>\n      <th>41</th>\n      <td>\"minimalistic architecture\"</td>\n      <td>[Local identity]</td>\n    </tr>\n    <tr>\n      <th>124</th>\n      <td>\"open to street\"</td>\n      <td>[Mobility (transport)]</td>\n    </tr>\n    <tr>\n      <th>336</th>\n      <td>\"and should be interesting\"</td>\n      <td>[Local identity]</td>\n    </tr>\n    <tr>\n      <th>81</th>\n      <td>\"What would you design there?\"</td>\n      <td>[Future of work]</td>\n    </tr>\n    <tr>\n      <th>109</th>\n      <td>\"Do you know of the slide in Garching?\"</td>\n      <td>[Local identity]</td>\n    </tr>\n    <tr>\n      <th>214</th>\n      <td>\"Can you tell a good building from a bad one?\"</td>\n      <td>[other]</td>\n    </tr>\n    <tr>\n      <th>82</th>\n      <td>\"Thats not enough\"</td>\n      <td>[other]</td>\n    </tr>\n    <tr>\n      <th>220</th>\n      <td>\"I think that Zaha Hadid design terrible build...</td>\n      <td>[Local identity]</td>\n    </tr>\n    <tr>\n      <th>241</th>\n      <td>\"the building should optimize the energy consu...</td>\n      <td>[Environment and climate resilience]</td>\n    </tr>\n    <tr>\n      <th>67</th>\n      <td>\"How many?\"</td>\n      <td>[other]</td>\n    </tr>\n    <tr>\n      <th>289</th>\n      <td>\"I hope there can be some automatic control sy...</td>\n      <td>[Environment and climate resilience]</td>\n    </tr>\n    <tr>\n      <th>100</th>\n      <td>\"Another thing that has always bothered me wit...</td>\n      <td>[Local identity]</td>\n    </tr>\n    <tr>\n      <th>311</th>\n      <td>\"Where did learn architecture\"</td>\n      <td>[other]</td>\n    </tr>\n    <tr>\n      <th>331</th>\n      <td>\"a beautiful courtyard is also good\"</td>\n      <td>[Local identity]</td>\n    </tr>\n    <tr>\n      <th>72</th>\n      <td>\"okay looks good\"</td>\n      <td>[Environment and climate resilience]</td>\n    </tr>\n    <tr>\n      <th>341</th>\n      <td>\"hi, i think if there´s more free use co-worki...</td>\n      <td>[Future of work]</td>\n    </tr>\n    <tr>\n      <th>280</th>\n      <td>\"Wil the building be a passive building or at ...</td>\n      <td>[Environment and climate resilience]</td>\n    </tr>\n    <tr>\n      <th>210</th>\n      <td>\"The collective space should be the core of th...</td>\n      <td>[Land use]</td>\n    </tr>\n    <tr>\n      <th>235</th>\n      <td>\"the building should have connected spaces for...</td>\n      <td>[Land use]</td>\n    </tr>\n    <tr>\n      <th>252</th>\n      <td>\"Will there be a cafeteria?\"</td>\n      <td>[Land use]</td>\n    </tr>\n    <tr>\n      <th>14</th>\n      <td>\"well if we intend to maintain ceratin parts o...</td>\n      <td>[Land use]</td>\n    </tr>\n    <tr>\n      <th>222</th>\n      <td>\"hide in the environment\"</td>\n      <td>[Environment and climate resilience]</td>\n    </tr>\n    <tr>\n      <th>110</th>\n      <td>\"I think the building should reflect the value...</td>\n      <td>[Local identity]</td>\n    </tr>\n    <tr>\n      <th>230</th>\n      <td>\"not too big but with huge windows and big stu...</td>\n      <td>[Land use]</td>\n    </tr>\n    <tr>\n      <th>139</th>\n      <td>\"Do you think ai will replace architects in th...</td>\n      <td>[Future of work]</td>\n    </tr>\n    <tr>\n      <th>35</th>\n      <td>\"west-east\"</td>\n      <td>[Land use]</td>\n    </tr>\n    <tr>\n      <th>347</th>\n      <td>\"Can we have a garden?\"</td>\n      <td>[Environment and climate resilience]</td>\n    </tr>\n    <tr>\n      <th>59</th>\n      <td>\"Yellow or gray\"</td>\n      <td>[Local identity]</td>\n    </tr>\n    <tr>\n      <th>357</th>\n      <td>\"Hello Zaha, nice to meet you! I'm glad to be ...</td>\n      <td>[Mobility (transport)]</td>\n    </tr>\n    <tr>\n      <th>138</th>\n      <td>\"I want a grade on the roof\"</td>\n      <td>[Land use]</td>\n    </tr>\n    <tr>\n      <th>333</th>\n      <td>\"And the space should show our history\"</td>\n      <td>[Local identity]</td>\n    </tr>\n    <tr>\n      <th>326</th>\n      <td>\"keep it sefe from thief\"</td>\n      <td>[Future of work]</td>\n    </tr>\n    <tr>\n      <th>44</th>\n      <td>\"and some tables that can be used by everybody...</td>\n      <td>[Future of work, Land use]</td>\n    </tr>\n    <tr>\n      <th>227</th>\n      <td>\"finish?\"</td>\n      <td>[other]</td>\n    </tr>\n    <tr>\n      <th>51</th>\n      <td>\"How many classrooms will be\"</td>\n      <td>[Future of work]</td>\n    </tr>\n    <tr>\n      <th>188</th>\n      <td>\"There should be a makerspace for model making.\"</td>\n      <td>[Land use]</td>\n    </tr>\n    <tr>\n      <th>286</th>\n      <td>\"How many rooms does the building have?\"</td>\n      <td>[Land use]</td>\n    </tr>\n    <tr>\n      <th>352</th>\n      <td>\"The building should have several spaces for g...</td>\n      <td>[Future of work]</td>\n    </tr>\n    <tr>\n      <th>56</th>\n      <td>\"How can the building have a positive impact o...</td>\n      <td>[Environment and climate resilience, Local ide...</td>\n    </tr>\n    <tr>\n      <th>266</th>\n      <td>\"Will it receive DGNB certificate?\"</td>\n      <td>[Environment and climate resilience]</td>\n    </tr>\n    <tr>\n      <th>208</th>\n      <td>\"Do you have any reference for the desin?\"</td>\n      <td>[other]</td>\n    </tr>\n    <tr>\n      <th>191</th>\n      <td>\"that was all of my ideas.\"</td>\n      <td>[other]</td>\n    </tr>\n    <tr>\n      <th>149</th>\n      <td>\"I think the building should have an outdoor s...</td>\n      <td>[Environment and climate resilience, Land use]</td>\n    </tr>\n    <tr>\n      <th>52</th>\n      <td>\"20\"</td>\n      <td>[other]</td>\n    </tr>\n    <tr>\n      <th>130</th>\n      <td>\"safe\"</td>\n      <td>[Environment and climate resilience]</td>\n    </tr>\n    <tr>\n      <th>270</th>\n      <td>\"It should be fokused on student work which is...</td>\n      <td>[Land use]</td>\n    </tr>\n    <tr>\n      <th>334</th>\n      <td>\"the space should be rich\"</td>\n      <td>[Local identity]</td>\n    </tr>\n    <tr>\n      <th>272</th>\n      <td>\"working in teams is essential for a collabora...</td>\n      <td>[Land use]</td>\n    </tr>\n    <tr>\n      <th>260</th>\n      <td>\"Oh nice, I didnt know it was you\"</td>\n      <td>[other]</td>\n    </tr>\n    <tr>\n      <th>152</th>\n      <td>\"We should let spaces be big but able to separ...</td>\n      <td>[Land use]</td>\n    </tr>\n    <tr>\n      <th>163</th>\n      <td>\"How do I waterproof the structure？\"</td>\n      <td>[Environment and climate resilience]</td>\n    </tr>\n    <tr>\n      <th>89</th>\n      <td>\"Is that how what do you think about my\"</td>\n      <td>[other]</td>\n    </tr>\n    <tr>\n      <th>290</th>\n      <td>\"Is there a cooling system?\"</td>\n      <td>[Environment and climate resilience]</td>\n    </tr>\n  </tbody>\n</table>\n</div>"
     },
     "execution_count": 28,
     "metadata": {},
     "output_type": "execute_result"
    }
   ],
   "source": [
    "test_df"
   ],
   "metadata": {
    "collapsed": false,
    "pycharm": {
     "name": "#%%\n"
    }
   }
  },
  {
   "cell_type": "code",
   "execution_count": 29,
   "outputs": [
    {
     "name": "stdout",
     "output_type": "stream",
     "text": [
      "[0. 1. 0. 0. 0. 0.]\n",
      "Abstract: b'\"i see\"'\n",
      "Label(s): ['other']\n",
      " \n",
      "[0. 0. 1. 0. 0. 0.]\n",
      "Abstract: b'\"The building should be made of recyclabe matierals\"'\n",
      "Label(s): ['Environment and climate resilience']\n",
      " \n",
      "[0. 1. 0. 0. 0. 0.]\n",
      "Abstract: b'\"Great Idea!\"'\n",
      "Label(s): ['other']\n",
      " \n",
      "[0. 0. 0. 1. 0. 0.]\n",
      "Abstract: b'\"I want a big playground.\"'\n",
      "Label(s): ['Local identity']\n",
      " \n",
      "[1. 0. 0. 0. 0. 0.]\n",
      "Abstract: b'\"What\\'s the advantage of using clay on the ceiling?\"'\n",
      "Label(s): ['Land use']\n",
      " \n"
     ]
    }
   ],
   "source": [
    "\n",
    "text_batch, label_batch = next(iter(train_dataset))\n",
    "\n",
    "for i, text in enumerate(text_batch[:5]):\n",
    "    label = label_batch[i].numpy()[None, ...]\n",
    "    print(label[0])\n",
    "    print(f\"Abstract: {text}\")\n",
    "    print(f\"Label(s): {invert_multi_hot(label[0])}\")\n",
    "    print(\" \")\n"
   ],
   "metadata": {
    "collapsed": false,
    "pycharm": {
     "name": "#%%\n"
    }
   }
  },
  {
   "cell_type": "code",
   "execution_count": 30,
   "outputs": [
    {
     "name": "stdout",
     "output_type": "stream",
     "text": [
      "1010\n"
     ]
    }
   ],
   "source": [
    "vocabulary = set()\n",
    "train_df[\"Sentence\"].str.lower().str.split().apply(vocabulary.update)\n",
    "vocabulary_size = len(vocabulary)\n",
    "print(vocabulary_size)"
   ],
   "metadata": {
    "collapsed": false,
    "pycharm": {
     "name": "#%%\n"
    }
   }
  },
  {
   "cell_type": "markdown",
   "source": [
    "### BERT MODEL"
   ],
   "metadata": {
    "collapsed": false,
    "pycharm": {
     "name": "#%% md\n"
    }
   }
  },
  {
   "cell_type": "code",
   "execution_count": 46,
   "outputs": [],
   "source": [
    "# Load the LaBSE model and preprocessor from tfhub.dev\n",
    "encoder = hub.KerasLayer(\"https://tfhub.dev/jeongukjae/smaller_LaBSE_15lang/1\")\n",
    "preprocessor = hub.KerasLayer(\"https://tfhub.dev/jeongukjae/smaller_LaBSE_15lang_preprocess/1\")"
   ],
   "metadata": {
    "collapsed": false,
    "pycharm": {
     "name": "#%% - load once!!\n"
    }
   }
  },
  {
   "cell_type": "code",
   "execution_count": null,
   "outputs": [],
   "source": [
    "def get_labse_embeddings(text, label):\n",
    "    # Preprocess the text\n",
    "    encoder_inputs = preprocessor(text)\n",
    "    # Get the LaBSE embeddings\n",
    "    sentence_representation = encoder(encoder_inputs)[\"pooled_output\"]\n",
    "    # Normalize the embeddings\n",
    "    normalized_sentence_representation = tf.nn.l2_normalize(sentence_representation, axis=-1)\n",
    "    return (normalized_sentence_representation, label)\n",
    "\n",
    "# Apply the function to your datasets\n",
    "train_dataset = train_dataset.map(get_labse_embeddings, num_parallel_calls=auto).prefetch(auto)\n",
    "validation_dataset = validation_dataset.map(get_labse_embeddings, num_parallel_calls=auto).prefetch(auto)\n",
    "test_dataset = test_dataset.map(get_labse_embeddings, num_parallel_calls=auto).prefetch(auto)\n"
   ],
   "metadata": {
    "collapsed": false,
    "pycharm": {
     "name": "#%%\n"
    }
   }
  },
  {
   "cell_type": "markdown",
   "source": [
    "### TOKENIZER MODEL (TF-IDF)"
   ],
   "metadata": {
    "collapsed": false,
    "pycharm": {
     "name": "#%% md\n"
    }
   }
  },
  {
   "cell_type": "code",
   "execution_count": 102,
   "outputs": [],
   "source": [
    "text_vectorizer = layers.TextVectorization(\n",
    "    max_tokens=vocabulary_size, ngrams=2, output_mode=\"tf_idf\"\n",
    ")\n",
    "\n",
    "# `TextVectorization` layer needs to be adapted as per the vocabulary from our\n",
    "# training set.\n",
    "with tf.device(\"/CPU:0\"):\n",
    "    text_vectorizer.adapt(train_dataset.map(lambda text, label: text))\n",
    "\n",
    "train_dataset = train_dataset.map(\n",
    "    lambda text, label: (text_vectorizer(text), label), num_parallel_calls=auto\n",
    ").prefetch(auto)\n",
    "validation_dataset = validation_dataset.map(\n",
    "    lambda text, label: (text_vectorizer(text), label), num_parallel_calls=auto\n",
    ").prefetch(auto)\n",
    "test_dataset = test_dataset.map(\n",
    "    lambda text, label: (text_vectorizer(text), label), num_parallel_calls=auto\n",
    ").prefetch(auto)"
   ],
   "metadata": {
    "collapsed": false,
    "pycharm": {
     "name": "#%%\n"
    }
   }
  },
  {
   "cell_type": "markdown",
   "source": [
    "### Create a text classification Model"
   ],
   "metadata": {
    "collapsed": false,
    "pycharm": {
     "name": "#%% md\n"
    }
   }
  },
  {
   "cell_type": "code",
   "execution_count": 47,
   "outputs": [],
   "source": [
    "from tensorflow.keras import layers\n",
    "def make_model():\n",
    "    mlp_model = tf.keras.Sequential(\n",
    "        [\n",
    "            layers.Dense(512, activation=\"relu\"),\n",
    "            layers.Dense(256, activation=\"relu\"),\n",
    "            layers.Dense(128, activation=\"relu\"),\n",
    "            layers.Dense(64, activation=\"relu\"),\n",
    "            layers.Dense(lookup.vocabulary_size(), activation=\"sigmoid\"),\n",
    "        ]  # More on why \"sigmoid\" has been used here in a moment.\n",
    "    )\n",
    "    return mlp_model\n"
   ],
   "metadata": {
    "collapsed": false,
    "pycharm": {
     "name": "#%%\n"
    }
   }
  },
  {
   "cell_type": "markdown",
   "source": [
    "## Train the model"
   ],
   "metadata": {
    "collapsed": false,
    "pycharm": {
     "name": "#%% md\n"
    }
   }
  },
  {
   "cell_type": "markdown",
   "source": [
    "#### class to evaluate the model"
   ],
   "metadata": {
    "collapsed": false,
    "pycharm": {
     "name": "#%% md\n"
    }
   }
  },
  {
   "cell_type": "code",
   "execution_count": 49,
   "outputs": [],
   "source": [
    "class F1Score(metrics.Metric):\n",
    "    def __init__(self, name='f1_score', **kwargs):\n",
    "        super().__init__(name=name, **kwargs)\n",
    "        self.precision = metrics.Precision()\n",
    "        self.recall = metrics.Recall()\n",
    "\n",
    "    def update_state(self, y_true, y_pred, sample_weight=None):\n",
    "        self.precision.update_state(y_true, y_pred, sample_weight)\n",
    "        self.recall.update_state(y_true, y_pred, sample_weight)\n",
    "\n",
    "    def reset_state(self):\n",
    "        self.precision.reset_state()\n",
    "        self.recall.reset_state()\n",
    "\n",
    "    def result(self):\n",
    "       precision = self.precision.result()\n",
    "       recall = self.recall.result()\n",
    "       return 2 * ((precision * recall) / (precision + recall + tf.keras.backend.epsilon()))"
   ],
   "metadata": {
    "collapsed": false,
    "pycharm": {
     "name": "#%%\n"
    }
   }
  },
  {
   "cell_type": "code",
   "execution_count": 50,
   "outputs": [
    {
     "name": "stdout",
     "output_type": "stream",
     "text": [
      "Epoch 1/16\n",
      "2/2 [==============================] - 112s 29s/step - loss: 0.6803 - binary_accuracy: 0.7163 - precision: 0.2911 - recall: 0.3556 - f1_score: 0.3201 - val_loss: 0.6485 - val_binary_accuracy: 0.8025 - val_precision: 0.5000 - val_recall: 0.0625 - val_f1_score: 0.1111\b\b\b\b\b\b\b\b\b\b\b\b\b\b\b\b\b\b\b\b\b\b\b\b\n",
      "Epoch 2/16\n",
      "2/2 [==============================] - 117s 32s/step - loss: 0.6300 - binary_accuracy: 0.8155 - precision: 0.5532 - recall: 0.0915 - f1_score: 0.1571 - val_loss: 0.5791 - val_binary_accuracy: 0.8148 - val_precision: 0.6250 - val_recall: 0.1562 - val_f1_score: 0.2500\b\b\b\b\b\b\b\b\b\b\b\b\b\b\b\b\b\b\b\b\b\b\b\b\n",
      "Epoch 3/16\n",
      "2/2 [==============================] - 123s 34s/step - loss: 0.5518 - binary_accuracy: 0.8175 - precision: 0.5513 - recall: 0.1514 - f1_score: 0.2376 - val_loss: 0.5023 - val_binary_accuracy: 0.8117 - val_precision: 0.6364 - val_recall: 0.1094 - val_f1_score: 0.1867\b\b\b\b\b\b\b\b\b\b\b\b\b\b\b\b\b\b\b\b\b\b\b\b\n",
      "Epoch 4/16\n",
      "2/2 [==============================] - 116s 31s/step - loss: 0.4790 - binary_accuracy: 0.8148 - precision: 0.5625 - recall: 0.0634 - f1_score: 0.1139 - val_loss: 0.4822 - val_binary_accuracy: 0.8025 - val_precision: 0.0000e+00 - val_recall: 0.0000e+00 - val_f1_score: 0.0000e+00\b\b\b\b\b\b\b\b\b\b\b\b\n",
      "Epoch 5/16\n",
      "2/2 [==============================] - 112s 28s/step - loss: 0.4626 - binary_accuracy: 0.8122 - precision: 0.0000e+00 - recall: 0.0000e+00 - f1_score: 0.0000e+00 - val_loss: 0.4982 - val_binary_accuracy: 0.8025 - val_precision: 0.0000e+00 - val_recall: 0.0000e+00 - val_f1_score: 0.0000e+00\b\b\b\b\b\b\b\b\b\b\b\b\b\b\b\b\b\b\b\b\b\b\b\b\n",
      "Epoch 6/16\n",
      "2/2 [==============================] - 98s 29s/step - loss: 0.4685 - binary_accuracy: 0.8122 - precision: 0.0000e+00 - recall: 0.0000e+00 - f1_score: 0.0000e+00 - val_loss: 0.4868 - val_binary_accuracy: 0.8025 - val_precision: 0.0000e+00 - val_recall: 0.0000e+00 - val_f1_score: 0.0000e+00\b\b\b\b\b\b\b\b\b\b\b\b\b\b\b\b\b\b\b\b\b\b\b\b\b\n",
      "Epoch 7/16\n",
      "2/2 [==============================] - 112s 25s/step - loss: 0.4553 - binary_accuracy: 0.8122 - precision: 0.0000e+00 - recall: 0.0000e+00 - f1_score: 0.0000e+00 - val_loss: 0.4672 - val_binary_accuracy: 0.8025 - val_precision: 0.0000e+00 - val_recall: 0.0000e+00 - val_f1_score: 0.0000e+00\b\b\b\b\b\b\b\b\b\b\b\b\b\b\b\b\b\b\b\b\b\b\b\b\n",
      "Epoch 8/16\n",
      "2/2 [==============================] - 96s 25s/step - loss: 0.4398 - binary_accuracy: 0.8122 - precision: 0.0000e+00 - recall: 0.0000e+00 - f1_score: 0.0000e+00 - val_loss: 0.4537 - val_binary_accuracy: 0.8025 - val_precision: 0.0000e+00 - val_recall: 0.0000e+00 - val_f1_score: 0.0000e+00\b\b\b\b\b\b\b\b\b\b\b\b\b\b\b\b\b\b\b\b\b\b\b\b\b\n",
      "Epoch 9/16\n",
      "2/2 [==============================] - 96s 25s/step - loss: 0.4304 - binary_accuracy: 0.8122 - precision: 0.0000e+00 - recall: 0.0000e+00 - f1_score: 0.0000e+00 - val_loss: 0.4446 - val_binary_accuracy: 0.8025 - val_precision: 0.0000e+00 - val_recall: 0.0000e+00 - val_f1_score: 0.0000e+00\b\b\b\b\b\b\b\b\b\b\b\b\b\b\b\b\b\b\b\b\b\b\b\b\b\n",
      "Epoch 10/16\n",
      "2/2 [==============================] - 95s 25s/step - loss: 0.4218 - binary_accuracy: 0.8122 - precision: 0.0000e+00 - recall: 0.0000e+00 - f1_score: 0.0000e+00 - val_loss: 0.4357 - val_binary_accuracy: 0.8025 - val_precision: 0.0000e+00 - val_recall: 0.0000e+00 - val_f1_score: 0.0000e+00\b\b\b\b\b\b\b\b\b\b\b\b\b\b\b\b\b\b\b\b\b\b\b\b\b\n",
      "Epoch 11/16\n",
      "2/2 [==============================] - 95s 25s/step - loss: 0.4110 - binary_accuracy: 0.8122 - precision: 0.0000e+00 - recall: 0.0000e+00 - f1_score: 0.0000e+00 - val_loss: 0.4249 - val_binary_accuracy: 0.8025 - val_precision: 0.0000e+00 - val_recall: 0.0000e+00 - val_f1_score: 0.0000e+00\b\b\b\b\b\b\b\b\b\b\b\b\b\b\b\b\b\b\b\b\b\b\b\b\b\n",
      "Epoch 12/16\n",
      "2/2 [==============================] - 95s 25s/step - loss: 0.3984 - binary_accuracy: 0.8148 - precision: 0.8333 - recall: 0.0176 - f1_score: 0.0345 - val_loss: 0.4124 - val_binary_accuracy: 0.8117 - val_precision: 0.8000 - val_recall: 0.0625 - val_f1_score: 0.1159\b\b\b\b\b\b\b\b\b\b\b\b\b\b\b\b\b\b\b\b\b\b\b\b\b\n",
      "Epoch 13/16\n",
      "2/2 [==============================] - 96s 26s/step - loss: 0.3822 - binary_accuracy: 0.8247 - precision: 0.7317 - recall: 0.1056 - f1_score: 0.1846 - val_loss: 0.3992 - val_binary_accuracy: 0.8364 - val_precision: 0.7619 - val_recall: 0.2500 - val_f1_score: 0.3765\b\b\b\b\b\b\b\b\b\b\b\b\b\b\b\b\b\b\b\b\b\b\b\b\b\n",
      "Epoch 14/16\n",
      "2/2 [==============================] - 95s 25s/step - loss: 0.3695 - binary_accuracy: 0.8439 - precision: 0.7308 - recall: 0.2676 - f1_score: 0.3918 - val_loss: 0.3883 - val_binary_accuracy: 0.8519 - val_precision: 0.7857 - val_recall: 0.3438 - val_f1_score: 0.4783\b\b\b\b\b\b\b\b\b\b\b\b\b\b\b\b\b\b\b\b\b\b\b\b\b\n",
      "Epoch 15/16\n",
      "2/2 [==============================] - 98s 24s/step - loss: 0.3569 - binary_accuracy: 0.8525 - precision: 0.7328 - recall: 0.3380 - f1_score: 0.4627 - val_loss: 0.3785 - val_binary_accuracy: 0.8519 - val_precision: 0.7667 - val_recall: 0.3594 - val_f1_score: 0.4894\b\b\b\b\b\b\b\b\b\b\b\b\b\b\b\b\b\b\b\b\b\b\b\b\b\n",
      "Epoch 16/16\n",
      "2/2 [==============================] - 95s 25s/step - loss: 0.3441 - binary_accuracy: 0.8512 - precision: 0.7034 - recall: 0.3592 - f1_score: 0.4755 - val_loss: 0.3725 - val_binary_accuracy: 0.8549 - val_precision: 0.7742 - val_recall: 0.3750 - val_f1_score: 0.5053\b\b\b\b\b\b\b\b\b\b\b\b\b\b\b\b\b\b\b\b\b\b\b\b\b\n",
      "INFO:tensorflow:Assets written to: model_text_clf_bert\\assets\n"
     ]
    },
    {
     "name": "stderr",
     "output_type": "stream",
     "text": [
      "INFO:tensorflow:Assets written to: model_text_clf_bert\\assets\n"
     ]
    }
   ],
   "source": [
    "epochs = 16\n",
    "\n",
    "shallow_mlp_model = make_model()\n",
    "shallow_mlp_model.compile(\n",
    "    loss=\"binary_crossentropy\",\n",
    "    optimizer=\"adam\",\n",
    "    metrics=[\n",
    "        \"binary_accuracy\", #\"binary_accuracy\" checks for each position if the prediction is correct.\n",
    "        metrics.Precision(name='precision'),\n",
    "        metrics.Recall(name='recall'),\n",
    "        F1Score()\n",
    "    ]\n",
    ")\n",
    "\n",
    "history = shallow_mlp_model.fit(\n",
    "    train_dataset, validation_data=validation_dataset, epochs=epochs\n",
    ")\n",
    "\n",
    "# Save the model\n",
    "shallow_mlp_model.save('model_text_clf_bert')"
   ],
   "metadata": {
    "collapsed": false,
    "pycharm": {
     "name": "#%%\n"
    }
   }
  },
  {
   "cell_type": "code",
   "execution_count": 54,
   "outputs": [],
   "source": [
    "model_text_clf_bert = tf.keras.models.load_model('model_text_clf_bert', custom_objects={'F1Score': F1Score})"
   ],
   "metadata": {
    "collapsed": false,
    "pycharm": {
     "name": "#%%\n"
    }
   }
  },
  {
   "cell_type": "code",
   "execution_count": null,
   "outputs": [],
   "source": [
    "def plot_evaluate(model):\n",
    "    def plot_result(item):\n",
    "        plt.plot(model.history.history[item], label=item)\n",
    "        plt.plot(model.history.history[\"val_\" + item], label=\"val_\" + item)\n",
    "        plt.xlabel(\"Epochs\")\n",
    "        plt.ylabel(item)\n",
    "        plt.title(\"Train and Validation {} Over Epochs\".format(item), fontsize=14)\n",
    "        plt.legend()\n",
    "        plt.grid()\n",
    "        plt.show()\n",
    "\n",
    "    plot_result(\"loss\")\n",
    "    plot_result(\"binary_accuracy\")\n",
    "    plot_result(\"precision\")\n",
    "    plot_result(\"recall\")\n",
    "    plot_result(\"f1_score\")"
   ],
   "metadata": {
    "collapsed": false,
    "pycharm": {
     "name": "#%%\n"
    }
   }
  },
  {
   "cell_type": "markdown",
   "source": [
    "### Test part:\n",
    "1. Predict labels for the test set using the model.\n",
    "2. Convert these predicted probabilities to binary format (0 or 1) using a threshold of 0.5.\n",
    "3. For each category:\n",
    "* Extract the true and predicted labels for this category.\n",
    "* Calculate and print the accuracy, precision, recall, and F1 score.\n",
    "* Calculate and plot a confusion matrix for the category."
   ],
   "metadata": {
    "collapsed": false,
    "pycharm": {
     "name": "#%% md\n"
    }
   }
  },
  {
   "cell_type": "code",
   "execution_count": 51,
   "outputs": [],
   "source": [
    "def pred(model):\n",
    "    # Generate predictions on the test set\n",
    "    y_pred = model.predict(test_dataset)\n",
    "\n",
    "    # Convert predictions to binary format (0 or 1)\n",
    "    binary_predictions = np.round(y_pred)\n",
    "    y_true = np.vstack(test_dataset.map(lambda x, y: y).as_numpy_iterator())\n",
    "\n",
    "    for i in range(binary_predictions.shape[1]):\n",
    "        print(f\"Category {i+1}:\\n\")\n",
    "\n",
    "        true_labels = y_true[:, i]\n",
    "        predicted_labels = binary_predictions[:, i]\n",
    "\n",
    "        # Calculate metrics\n",
    "        accuracy = accuracy_score(true_labels, predicted_labels)\n",
    "        precision = precision_score(true_labels, predicted_labels)\n",
    "        recall = recall_score(true_labels, predicted_labels)\n",
    "        f1 = f1_score(true_labels, predicted_labels)\n",
    "\n",
    "        print(f\"Accuracy: {accuracy}\")\n",
    "        print(f\"Precision: {precision}\")\n",
    "        print(f\"Recall: {recall}\")\n",
    "        print(f\"F1 Score: {f1}\\n\")\n",
    "\n",
    "        # Plot confusion matrix\n",
    "        cm = confusion_matrix(true_labels, predicted_labels)\n",
    "        plt.figure(figsize=(5,5))\n",
    "        sns.heatmap(cm, annot=True, fmt=\"d\")\n",
    "        plt.title(f'Confusion matrix for category {i+1}')\n",
    "        plt.ylabel('Actual label')\n",
    "        plt.xlabel('Predicted label')\n",
    "        plt.show()\n"
   ],
   "metadata": {
    "collapsed": false,
    "pycharm": {
     "name": "#%%\n"
    }
   }
  },
  {
   "cell_type": "markdown",
   "source": [
    "For Summery:\n",
    "- Category 1 (Land use): Accuracy of 85.19%\n",
    "- Category 2 (Other): Accuracy of 88.89%\n",
    "- Category 3 (Environment and climate resilience): Accuracy of 81.48%\n",
    "- Category 4 (Local identity): Accuracy of 85.19%\n",
    "- Category 5 (Future of work): Accuracy of 92.59%\n",
    "- Category 6 (Mobility (transport)): Accuracy of 96.30%"
   ],
   "metadata": {
    "collapsed": false,
    "pycharm": {
     "name": "#%% md\n"
    }
   }
  },
  {
   "cell_type": "markdown",
   "source": [
    "### DISTRUBIOTION\n",
    " Lets check for the train and test data how many samples we have from each class:"
   ],
   "metadata": {
    "collapsed": false,
    "pycharm": {
     "name": "#%% md\n"
    }
   }
  },
  {
   "cell_type": "code",
   "execution_count": null,
   "outputs": [],
   "source": [
    "from collections import Counter\n",
    "\n",
    "# Flatten the list of categories\n",
    "flat_categories = [category for sublist in train_df[\"category\"] for category in sublist]\n",
    "\n",
    "# Count the occurrences\n",
    "counts = Counter(flat_categories)\n",
    "\n",
    "# Print counts in a readable format\n",
    "for category, count in counts.items():\n",
    "    print(f\" {category}' : {count} .\")\n",
    "\n"
   ],
   "metadata": {
    "collapsed": false,
    "pycharm": {
     "name": "#%%\n"
    }
   }
  },
  {
   "cell_type": "code",
   "execution_count": null,
   "outputs": [],
   "source": [
    "# Flatten the list of categories\n",
    "flat_categories = [category for sublist in test_df[\"category\"] for category in sublist]\n",
    "\n",
    "# Count the occurrences\n",
    "counts = Counter(flat_categories)\n",
    "\n",
    "# Print counts in a readable format\n",
    "for category, count in counts.items():\n",
    "    print(f\" {category}' : {count} .\")\n"
   ],
   "metadata": {
    "collapsed": false,
    "pycharm": {
     "name": "#%%\n"
    }
   }
  },
  {
   "cell_type": "code",
   "execution_count": null,
   "outputs": [],
   "source": [],
   "metadata": {
    "collapsed": false,
    "pycharm": {
     "name": "#%%\n"
    }
   }
  }
 ],
 "metadata": {
  "kernelspec": {
   "display_name": "Python 3",
   "language": "python",
   "name": "python3"
  },
  "language_info": {
   "codemirror_mode": {
    "name": "ipython",
    "version": 2
   },
   "file_extension": ".py",
   "mimetype": "text/x-python",
   "name": "python",
   "nbconvert_exporter": "python",
   "pygments_lexer": "ipython2",
   "version": "2.7.6"
  }
 },
 "nbformat": 4,
 "nbformat_minor": 0
}